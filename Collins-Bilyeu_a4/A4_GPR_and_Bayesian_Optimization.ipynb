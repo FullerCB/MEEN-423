{
 "cells": [
  {
   "cell_type": "markdown",
   "metadata": {
    "id": "03d2673c-0470-424b-aed5-341183497d51"
   },
   "source": [
    "# **MEEN 423: Machine Learning for Mechanical Engineers**\n",
    "# Assignment 4: Gaussian Process Regression and Bayesian Optimization"
   ]
  },
  {
   "cell_type": "markdown",
   "metadata": {
    "id": "3GPMTazgBvm9"
   },
   "source": [
    "# Background"
   ]
  },
  {
   "cell_type": "markdown",
   "metadata": {
    "id": "59tPfO6s-rTN"
   },
   "source": [
    "A manufacturing company has observed that the defect rate of their manufactured parts significantly varies with the operating temperature. Minimizing defect rates is crucial for improving productivity and reducing operational costs. However, extensive data collection through experimental trials is costly and time-consuming."
   ]
  },
  {
   "cell_type": "markdown",
   "metadata": {
    "id": "vlskmbHbB7LS"
   },
   "source": [
    "# Objective"
   ]
  },
  {
   "cell_type": "markdown",
   "metadata": {
    "id": "zGzh2uQz-3KV"
   },
   "source": [
    "The primary goal of this assignment is to use Bayesian Optimization with Gaussian Process Regression to identify the optimal operating temperature that minimizes the defect rate. This approach aims to make efficient use of existing data to guide the optimization process, thereby minimizing the need for additional costly and time-consuming experiments."
   ]
  },
  {
   "cell_type": "markdown",
   "metadata": {
    "id": "WQQ4xoSaMDbj"
   },
   "source": [
    "# Data"
   ]
  },
  {
   "cell_type": "markdown",
   "metadata": {
    "id": "c87omlRlMFdg"
   },
   "source": [
    "The company has historically collected 10 data points reflecting different operating temperatures (ranging from 100°C to 200°C) and the corresponding defect rates. Data file is BO_data.csv"
   ]
  },
  {
   "cell_type": "markdown",
   "metadata": {
    "id": "uwww4LH2FLZM"
   },
   "source": [
    "# Set up Python Environment for this homework"
   ]
  },
  {
   "cell_type": "code",
   "execution_count": 10,
   "metadata": {
    "id": "mgCaK8Jf5i_P"
   },
   "outputs": [],
   "source": [
    "import numpy as np\n",
    "from sklearn.gaussian_process import GaussianProcessRegressor\n",
    "from sklearn.gaussian_process.kernels import ConstantKernel, RBF, WhiteKernel\n",
    "from matplotlib import pyplot as plt\n",
    "import pandas as pd\n",
    "\n",
    "# do NOT change the seed number\n",
    "np.random.seed(12)"
   ]
  },
  {
   "cell_type": "markdown",
   "metadata": {
    "id": "0a_mq7pCCBwY"
   },
   "source": [
    "# Task"
   ]
  },
  {
   "cell_type": "markdown",
   "metadata": {
    "id": "vCSRnhDaCDTW"
   },
   "source": [
    "## 1. Data Visualization"
   ]
  },
  {
   "cell_type": "markdown",
   "metadata": {
    "id": "74z7BMiUEbV6"
   },
   "source": [
    "Plot the dataset with temperature on the x-axis and defect rate (%) on the y-axis. Use error bar to represent the error (noise) in data."
   ]
  },
  {
   "cell_type": "code",
   "execution_count": 28,
   "metadata": {
    "id": "8LoyK-GiE-Pw"
   },
   "outputs": [
    {
     "name": "stdout",
     "output_type": "stream",
     "text": [
      "   Temperature  Defect_Rate  Error_Bar\n",
      "0        130.7    43.374911       0.25\n",
      "1        105.5    41.073507       0.25\n",
      "2        150.5    41.027569       0.25\n",
      "3        188.4    37.555329       0.25\n",
      "4        144.0    42.362430       0.25\n",
      "5        187.2    37.055255       0.25\n",
      "6        138.0    42.921691       0.25\n",
      "7        114.5    42.604723       0.25\n"
     ]
    },
    {
     "data": {
      "image/png": "[encoded data removed]",
      "text/plain": [
       "<Figure size 640x480 with 1 Axes>"
      ]
     },
     "metadata": {},
     "output_type": "display_data"
    }
   ],
   "source": [
    "# Load the data\n",
    "df = pd.read_csv('BO_data.csv')\n",
    "print(df)\n",
    "\n",
    "# Plot\n",
    "plt.figure()\n",
    "plt.errorbar(df['Temperature'], df['Defect_Rate'], fmt='o', yerr=df['Error_Bar'])\n",
    "plt.xlabel('Temperature')\n",
    "plt.ylabel('Defect Rate')\n",
    "plt.show()"
   ]
  },
  {
   "cell_type": "markdown",
   "metadata": {
    "id": "XXarXcbZ0-dH"
   },
   "source": [
    "## 2. Fit the data using GPR"
   ]
  },
  {
   "cell_type": "markdown",
   "metadata": {
    "id": "3k0O83mH1KZa"
   },
   "source": [
    "Use the historical data to train a GPR model. This model will serve as the surrogate function for the Bayesian Optimization process, providing a predictive distribution of the defect rate across the temperature range."
   ]
  },
  {
   "cell_type": "markdown",
   "metadata": {
    "id": "xpbFzLx65g7Y"
   },
   "source": [
    "### 2.1 Use RBF kernal, write code to test the influence of different length scale parameters"
   ]
  },
  {
   "cell_type": "code",
   "execution_count": null,
   "metadata": {
    "id": "pyIKLBDx6OGt"
   },
   "outputs": [],
   "source": [
    "# Write your code here\n",
    "# plot your regression reulsts using different lengthscale parameters: 1, 10, 100. Set variance of RBF to 50. Assume the noise variance of data is 1.0.\n",
    "# Note: do not optimize the hyperparameters in this task (set 'optimizer=None')\n",
    "# plot the Mean and Confidence interval of GPR prediction\n",
    "\n",
    "\n"
   ]
  },
  {
   "cell_type": "markdown",
   "metadata": {
    "id": "JTUPEFKtSZnl"
   },
   "source": [
    "### 2.2  What can you learn from Mean and Confidence Interval?"
   ]
  },
  {
   "cell_type": "markdown",
   "metadata": {
    "id": "8PI-XhnXSwx0"
   },
   "source": [
    "**Write you answer here**:\n",
    "\n"
   ]
  },
  {
   "cell_type": "markdown",
   "metadata": {
    "id": "IFjoJ41G6RZl"
   },
   "source": [
    "### 2.3 What are your observations from the results? What is the role of lenghscale in RBF kernal?"
   ]
  },
  {
   "cell_type": "markdown",
   "metadata": {
    "id": "NuBpITiy7Ncq"
   },
   "source": [
    "**Write your answer here:**\n",
    "\n",
    "\n",
    "\n"
   ]
  },
  {
   "cell_type": "markdown",
   "metadata": {
    "id": "Gm40f-02Dm0c"
   },
   "source": [
    "### 2.4 Optimize the RBF hyperparameters"
   ]
  },
  {
   "cell_type": "markdown",
   "metadata": {
    "id": "noZO1iA8Efc4"
   },
   "source": [
    "Set `optimizer='fmin_l_bfgs_b'` in your previous code to optimize the hyperparameter.\n",
    "\n",
    "Use `model.kernel_` to print out the resulting kernel."
   ]
  },
  {
   "cell_type": "code",
   "execution_count": null,
   "metadata": {
    "id": "jYD0Q_WwD-xw"
   },
   "outputs": [],
   "source": [
    "# Write your code here\n",
    "# plot the fiting and print out the kernel after hyperparameter optimization\n",
    "\n",
    "\n"
   ]
  },
  {
   "cell_type": "markdown",
   "metadata": {
    "id": "IopN7L0eGX--"
   },
   "source": [
    "## 3. Bayesian optimization with pure exploitation"
   ]
  },
  {
   "cell_type": "markdown",
   "metadata": {
    "id": "gJ3Sx2OkU_7T"
   },
   "source": [
    "In this task, we will use Bayesian Optimization with Gaussian Process Regression to identify the optimal operating temperature that minimizes the defect rate."
   ]
  },
  {
   "cell_type": "markdown",
   "metadata": {
    "id": "rsUvrEBAYE61"
   },
   "source": [
    "We use a function \"measure(x)\" to mimic the data collection process\n",
    "\n",
    "Run the following code but do NOT change it"
   ]
  },
  {
   "cell_type": "code",
   "execution_count": 33,
   "metadata": {
    "id": "4-J_3MeWXUlT"
   },
   "outputs": [],
   "source": [
    "# Code to get new data\n",
    "\n",
    "def ground_truth_function(x):\n",
    "     y =    3*np.sin(np.pi*(x-100)/50)\\\n",
    "         +1*np.sin(np.pi*(x-100)/100)\\\n",
    "         +1*np.sin(np.pi*(x+3-100)/10)\\\n",
    "         + 1*np.sin(np.pi*(x+3-100)/8)\n",
    "     return y+40\n",
    "\n",
    "def measure(x, std_noise = 0.25):\n",
    "    #Find the ground truth, and add Gaussian noise (defined by mean and std)\n",
    "    y = ground_truth_function(x) + np.random.normal(loc= 0, scale = std_noise, size = x.shape)\n",
    "\n",
    "    #Find the uncertainty in the measurement\n",
    "    y_uncertainty = std_noise\n",
    "    return y, y_uncertainty"
   ]
  },
  {
   "cell_type": "markdown",
   "metadata": {
    "id": "SfdyF85bY17E"
   },
   "source": [
    "### 3.1 Write code for Bayesian optimization using pure exploitation\n",
    "\"Pure exploitation\" means that the acquisition function is the predictive mean, while ignoring the predictive variance (uncertainty). Use `from scipy.optimize import minimize` to optimize the acquisition function."
   ]
  },
  {
   "cell_type": "code",
   "execution_count": null,
   "metadata": {
    "id": "mY_4BF-iYZff"
   },
   "outputs": [],
   "source": [
    "# Write your code here for Bayesian Optimization\n",
    "# set the budget to 25 iterations (query 25 new data points)\n",
    "# use GPR with hyperparameter optimization\n",
    "# use function \"measure\" to get new data points\n",
    "# use scipy.optimize to minimize the acquisition function\n",
    "# plot the result for each active learning loop\n",
    "# plot the fitting result along with ground truth, using ground_truth_function\n",
    "# remember to add legend and axis labels\n",
    "\n",
    "\n",
    "\n",
    "\n"
   ]
  },
  {
   "cell_type": "markdown",
   "metadata": {
    "id": "l7PWUNJ0uz6V"
   },
   "source": [
    "### 3.2 Do you get the true minimum using pure exploitation? Why or why not?\n",
    "\n"
   ]
  },
  {
   "cell_type": "markdown",
   "metadata": {
    "id": "H2RzzVc7vBG0"
   },
   "source": [
    "**Write your answer here:**\n"
   ]
  },
  {
   "cell_type": "markdown",
   "metadata": {
    "id": "p3jGDYCMskvm"
   },
   "source": [
    "# 4. Bayesian optimization with Lower Confidence Bound (LCB) Acquisition Function"
   ]
  },
  {
   "cell_type": "markdown",
   "metadata": {
    "id": "9fUAPptIwV8P"
   },
   "source": [
    "The Lower Confidence Bound (LCB) acquisition function can be expressed as\n",
    "$$ a(\\mathbf{x}) = \\mu(\\mathbf{x}) - \\beta \\sigma(\\mathbf{x}) $$\n",
    "where $\\mu(\\cdot)$ and $\\sigma(\\cdot)$ are predictive mean and predictive standard deviation. In this task, set the parameter $\\beta$ to 10."
   ]
  },
  {
   "cell_type": "markdown",
   "metadata": {
    "id": "yMMLxjNzx1GX"
   },
   "source": [
    "### 4.1 Write code for Bayesian optimization with LCB as the acquisition function"
   ]
  },
  {
   "cell_type": "code",
   "execution_count": null,
   "metadata": {
    "id": "2H86ysCKtDvF"
   },
   "outputs": [],
   "source": [
    "# Write your code here for Bayesian Optimization\n",
    "# set the budeget to 25 iterations (query 25 new data points)\n",
    "# use GPR with hyperparameter optimization\n",
    "# use function \"measure\" to get new data points\n",
    "# use scipy.optimize to minimize the acquisition function\n",
    "# plot the result for each active learning loop\n",
    "# plot the fitting result along with ground truth, using ground_truth_function\n",
    "# remember to add legend and axis labels\n",
    "\n",
    "\n",
    "\n"
   ]
  },
  {
   "cell_type": "markdown",
   "metadata": {
    "id": "_LKxvCCZyEN6"
   },
   "source": [
    "### 4.2: Do you get the true minimum using LCB? Why or why not?"
   ]
  },
  {
   "cell_type": "markdown",
   "metadata": {
    "id": "iU3nOvtwyMn3"
   },
   "source": [
    "**Write your answer here:**\n"
   ]
  }
 ],
 "metadata": {
  "colab": {
   "collapsed_sections": [
    "DwS2Ca4w2Hfu",
    "SsGM48sVeLD-"
   ],
   "provenance": [
    {
     "file_id": "https://github.com/mannodiarun/mrs_spring_tutorial/blob/GP_and_AL/GP_and_AL/Active_Learning.ipynb",
     "timestamp": 1681164742271
    }
   ]
  },
  "kernelspec": {
   "display_name": "Python 3 (ipykernel)",
   "language": "python",
   "name": "python3"
  },
  "language_info": {
   "codemirror_mode": {
    "name": "ipython",
    "version": 3
   },
   "file_extension": ".py",
   "mimetype": "text/x-python",
   "name": "python",
   "nbconvert_exporter": "python",
   "pygments_lexer": "ipython3",
   "version": "3.11.7"
  },
  "varInspector": {
   "cols": {
    "lenName": 16,
    "lenType": 16,
    "lenVar": 40
   },
   "kernels_config": {
    "python": {
     "delete_cmd_postfix": "",
     "delete_cmd_prefix": "del ",
     "library": "var_list.py",
     "varRefreshCmd": "print(var_dic_list())"
    },
    "r": {
     "delete_cmd_postfix": ") ",
     "delete_cmd_prefix": "rm(",
     "library": "var_list.r",
     "varRefreshCmd": "cat(var_dic_list()) "
    }
   },
   "oldHeight": 466,
   "position": {
    "height": "40px",
    "left": "1004px",
    "right": "20px",
    "top": "120px",
    "width": "350px"
   },
   "types_to_exclude": [
    "module",
    "function",
    "builtin_function_or_method",
    "instance",
    "_Feature"
   ],
   "varInspector_section_display": "none",
   "window_display": true
  }
 },
 "nbformat": 4,
 "nbformat_minor": 4
}
